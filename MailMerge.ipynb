{
  "nbformat": 4,
  "nbformat_minor": 0,
  "metadata": {
    "colab": {
      "provenance": [],
      "private_outputs": true
    },
    "kernelspec": {
      "name": "python3",
      "display_name": "Python 3"
    },
    "language_info": {
      "name": "python"
    },
    "gpuClass": "standard"
  },
  "cells": [
    {
      "cell_type": "markdown",
      "source": [
        "\n",
        "\n",
        "---\n",
        "\n"
      ],
      "metadata": {
        "id": "M_owkD__oSba"
      }
    },
    {
      "cell_type": "code",
      "source": [
        "#@title Setup\n",
        "import smtplib\n",
        "from email.mime.multipart import MIMEMultipart\n",
        "from email.mime.text import MIMEText\n",
        "import getpass\n",
        "import smtplib\n",
        "from email.message import EmailMessage\n",
        "from google.colab import files\n",
        "import io\n",
        "import pandas as pd"
      ],
      "metadata": {
        "id": "RO20ow-iBq-V"
      },
      "execution_count": null,
      "outputs": []
    },
    {
      "cell_type": "code",
      "source": [
        "#@title Credenciales del correo USFQ\n",
        "EMAIL_ADDRESS = input(\"Tu correo USFQ: \")\n",
        "print('Tu contraseña del correo')\n",
        "EMAIL_PASSWORD = getpass.getpass()"
      ],
      "metadata": {
        "cellView": "form",
        "id": "DD0Zg2xG_7gb"
      },
      "execution_count": null,
      "outputs": []
    },
    {
      "cell_type": "code",
      "source": [
        "#@title Sube la tabla de excel con los destinatarios de correo, email debe ser la segunda columna\n",
        "# Columnas\n",
        "# userID  email title firstname lastname  keep  optout\n",
        "\n",
        "print(\"\\n----\")\n",
        "print(\"Adjunta el excel con la tabla de recipientes \\n\")\n",
        "uploaded = files.upload()\n",
        "filename=[key for key in uploaded.keys()][0]\n",
        "df = pd.read_excel(io.BytesIO(uploaded[filename]))"
      ],
      "metadata": {
        "id": "N0bQFSDMha_5"
      },
      "execution_count": null,
      "outputs": []
    },
    {
      "cell_type": "code",
      "source": [
        "df"
      ],
      "metadata": {
        "id": "i87-C0e6g5PS"
      },
      "execution_count": null,
      "outputs": []
    },
    {
      "cell_type": "markdown",
      "source": [
        "# Plantillas HTML"
      ],
      "metadata": {
        "id": "CAWUxIhXafCl"
      }
    },
    {
      "cell_type": "code",
      "source": [
        "# Descargar plantillas\n",
        "\n",
        "!rm -rf UPDATE_BIGSURV23.html\n",
        "!rm -rf CALL_BIGSURV23.html\n",
        "!rm -rf SPANISH_BIGSURV23.html\n",
        "!wget -nv https://raw.githubusercontent.com/mayait/USFQ_BigSurv/main/newsleter_march_23/CALL_BIGSURV23.html\n",
        "!wget -nv https://raw.githubusercontent.com/mayait/USFQ_BigSurv/main/newsleter_march_23/UPDATE_BIGSURV23.html\n",
        "!wget -nv https://raw.githubusercontent.com/mayait/USFQ_BigSurv/main/newsleter_march_23/SPANISH_BIGSURV23.html\n",
        "\n",
        "# Cargar Style\n",
        "style = ''' \n",
        "<style type=\"text/css\">\n",
        "body,table,td{font-family:Helvetica,Arial,sans-serif !important}.ExternalClass{width:100%}.ExternalClass,.ExternalClass p,.ExternalClass span,.ExternalClass font,.ExternalClass td,.ExternalClass div{line-height:150%}a{text-decoration:none}*{color:inherit}a[x-apple-data-detectors],u+#body a,#MessageViewBody a{color:inherit;text-decoration:none;font-size:inherit;font-family:inherit;font-weight:inherit;line-height:inherit}img{-ms-interpolation-mode:bicubic}table:not([class^=s-]){font-family:Helvetica,Arial,sans-serif;mso-table-lspace:0pt;mso-table-rspace:0pt;border-spacing:0px;border-collapse:collapse}table:not([class^=s-]) td{border-spacing:0px;border-collapse:collapse}@media screen and (max-width: 600px){.w-full,.w-full>tbody>tr>td{width:100% !important}.p-3:not(table),.p-3:not(.btn)>tbody>tr>td,.p-3.btn td a{padding:12px !important}*[class*=s-lg-]>tbody>tr>td{font-size:0 !important;line-height:0 !important;height:0 !important}.s-3>tbody>tr>td{font-size:12px !important;line-height:12px !important;height:12px !important}.s-5>tbody>tr>td{font-size:20px !important;line-height:20px !important;height:20px !important}.s-10>tbody>tr>td{font-size:40px !important;line-height:40px !important;height:40px !important}}\n",
        "</style>\n",
        "'''\n",
        "\n",
        "import re\n",
        "\n",
        "# Abrir el HTML\n",
        "with open('UPDATE_BIGSURV23.html', 'r') as file:\n",
        "    UPDATE_BIGSURV23 = file.read()\n",
        "# Reemplazar todo lo que está en style.\n",
        "UPDATE_BIGSURV23 = re.sub(r'<style(.*?)</style>', \"{style}\", UPDATE_BIGSURV23, flags=re.DOTALL)\n",
        "\n",
        "# Abrir el HTML\n",
        "with open('SPANISH_BIGSURV23.html', 'r') as file:\n",
        "    SPANISH_BIGSURV23 = file.read()\n",
        "# Reemplazar todo lo que está en style.\n",
        "SPANISH_BIGSURV23 = re.sub(r'<style(.*?)</style>', \"{style}\", SPANISH_BIGSURV23, flags=re.DOTALL)\n",
        "\n",
        "# Abrir el HTML\n",
        "with open('CALL_BIGSURV23.html', 'r') as file:\n",
        "    CALL_BIGSURV23 = file.read()\n",
        "# Reemplazar todo lo que está en style.\n",
        "CALL_BIGSURV23 = re.sub(r'<style(.*?)</style>', \"{style}\", CALL_BIGSURV23, flags=re.DOTALL)\n"
      ],
      "metadata": {
        "id": "aUw3jtQKNu_y"
      },
      "execution_count": null,
      "outputs": []
    },
    {
      "cell_type": "markdown",
      "source": [
        "# **Subjects and template**"
      ],
      "metadata": {
        "id": "IWcYBKmYTixw"
      }
    },
    {
      "cell_type": "code",
      "source": [
        "body = UPDATE_BIGSURV23\n",
        "subject = \"UPDATE ON PUBLICATION INFORMATION FOR BIGSURV23\"\n",
        "\n",
        "#body = CALL_BIGSURV23\n",
        "#subject = \"BigSurv23: Call for Abstracts\"\n",
        "\n",
        "#body = SPANISH_BIGSURV23 \n",
        "#subject = \"BigSurv23: Solicitud de Abstracts\" \n",
        "\n",
        "# Preview\n",
        "from IPython.display import HTML\n",
        "HTML(body.format(style=style))"
      ],
      "metadata": {
        "id": "9aspKTtaRxXM",
        "cellView": "code"
      },
      "execution_count": null,
      "outputs": []
    },
    {
      "cell_type": "code",
      "source": [
        "#@title Función enviar correo\n",
        "\n",
        "def send_mail(mail_to, firstname, keep, optout, body):\n",
        "  msg = EmailMessage()\n",
        "  msg['Subject'] = subject\n",
        "  msg['From'] = EMAIL_ADDRESS \n",
        "  msg['To'] = mail_to \n",
        "\n",
        "\n",
        "  body = body.format(firstname=firstname, \n",
        "                     style=style,\n",
        "                     keep=keep,\n",
        "                     optout=optout)\n",
        "  msg.set_content(body, subtype='html')\n",
        "\n",
        "\n",
        "  connection = smtplib.SMTP(host='smtp.office365.com', port=587)\n",
        "  connection.starttls()\n",
        "  connection.login(EMAIL_ADDRESS,EMAIL_PASSWORD)\n",
        "  connection.send_message(msg)\n",
        "  connection.quit()"
      ],
      "metadata": {
        "id": "rzAForST-8Rg"
      },
      "execution_count": null,
      "outputs": []
    },
    {
      "cell_type": "code",
      "source": [
        "#@title Enviar correo { display-mode: \"form\" }\n",
        "\n",
        "for row in df.iterrows():\n",
        "  send_mail(mail_to = row[1][1], \n",
        "            firstname = '', \n",
        "            keep=1, \n",
        "            optout=1, \n",
        "            body=body)\n",
        "  print(row[0],row[1][1], \"OK\")"
      ],
      "metadata": {
        "id": "KuSpXklSkCLx"
      },
      "execution_count": null,
      "outputs": []
    },
    {
      "cell_type": "code",
      "source": [
        "# Test\n",
        "send_mail(mail_to = 'carlapalau88@gmail.com', firstname = '', keep=1, optout=1, body=body)"
      ],
      "metadata": {
        "id": "IpRCHMEdOqfL"
      },
      "execution_count": null,
      "outputs": []
    },
    {
      "cell_type": "code",
      "source": [],
      "metadata": {
        "id": "TIC_Bf4qknpA"
      },
      "execution_count": null,
      "outputs": []
    }
  ]
}